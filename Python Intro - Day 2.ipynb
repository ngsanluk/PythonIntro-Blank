{
 "cells": [
  {
   "cell_type": "markdown",
   "metadata": {},
   "source": [
    "# Advanced Python Data Type\n",
    "- Built-in python collection type: ```List```, ```Tuple```, ```Set```, and ```Dictionary```\n",
    "- Beside python also has reach 3rd-party library/adddon: ```numpy```, ```panda```"
   ]
  },
  {
   "cell_type": "markdown",
   "metadata": {},
   "source": [
    "# Tuples\n",
    "- Tuples are used to store multiple items in a singel variable.\n",
    "- A tuple is a collection which is ordered and unchangeable.\n",
    "- Tuples are written with round brackets.\n",
    "\n",
    "**Example**:\n",
    "```\n",
    "student_info = (\"Johnny\", 23, \"johnny@ggmail.com\")\n",
    "print(student_info)\n",
    "```"
   ]
  },
  {
   "cell_type": "code",
   "execution_count": 1,
   "metadata": {},
   "outputs": [
    {
     "name": "stdout",
     "output_type": "stream",
     "text": [
      "('Johnny', 23, 'johnny@ggmail.com')\n"
     ]
    }
   ],
   "source": []
  },
  {
   "cell_type": "markdown",
   "metadata": {},
   "source": [
    "# Tuple Items\n",
    "- Tuple items are ordered, unchangeable, and allow duplicate values.\n",
    "- Tuple items are indexed, the first item has index [0], the second item has index [1] etc.\n",
    "\n",
    "```\n",
    "print(student_info[1])\n",
    "```"
   ]
  },
  {
   "cell_type": "code",
   "execution_count": 2,
   "metadata": {},
   "outputs": [
    {
     "name": "stdout",
     "output_type": "stream",
     "text": [
      "23\n"
     ]
    }
   ],
   "source": []
  },
  {
   "cell_type": "markdown",
   "metadata": {},
   "source": [
    "# Unpack a tuple\n",
    "```\n",
    "student_info = (\"Johnny\", 23, \"johnny@ggmail.com\")\n",
    "(name, age, email) = student_info\n",
    "print(email)\n",
    "```"
   ]
  },
  {
   "cell_type": "code",
   "execution_count": 3,
   "metadata": {},
   "outputs": [
    {
     "name": "stdout",
     "output_type": "stream",
     "text": [
      "johnny@ggmail.com\n"
     ]
    }
   ],
   "source": []
  },
  {
   "cell_type": "markdown",
   "metadata": {},
   "source": [
    "# Set\n",
    "- A set is a collection which is unordered and unindexed. \n",
    "- In Python, sets are written with curly brackets: ```{}```.\n",
    "\n",
    "**Example**:\n",
    "```\n",
    "names = {\"April\", \"Winnie\", \"Cherry\"}\n",
    "print(names)\n",
    "names.add(\"Johnny\")\n",
    "print(names)\n",
    "names.add(\"April\")\n",
    "print(names)\n",
    "names.remove(\"Winnie\")\n",
    "print(names)\n",
    "for name in names:\n",
    "  print(name)\n",
    "```\n"
   ]
  },
  {
   "cell_type": "code",
   "execution_count": 4,
   "metadata": {},
   "outputs": [
    {
     "name": "stdout",
     "output_type": "stream",
     "text": [
      "{'Cherry', 'Winnie', 'April'}\n",
      "{'Johnny', 'Cherry', 'Winnie', 'April'}\n",
      "{'Johnny', 'Cherry', 'Winnie', 'April'}\n",
      "{'Johnny', 'Cherry', 'April'}\n",
      "Johnny\n",
      "Cherry\n",
      "April\n"
     ]
    }
   ],
   "source": []
  },
  {
   "cell_type": "markdown",
   "metadata": {},
   "source": [
    "# Set Methods\n",
    "Set has many built-in methods\n",
    "- ```add()```\tAdds an element to the set\n",
    "- ```clear()```\tRemoves all the elements from the set\n",
    "- ```copy()```\tReturns a copy of the set\n",
    "- ```difference()```\tReturns a set containing the difference between two or more sets\n",
    "- ```difference_update()```\tRemoves the items in this set that are also included in another, specified set\n",
    "- ```discard()```\tRemove the specified item\n",
    "- ```intersection()```\tReturns a set, that is the intersection of two other sets\n",
    "- ```intersection_update()```\tRemoves the items in this set that are not present in other, specified set(s)\n",
    "- ```isdisjoint()```\tReturns whether two sets have a intersection or not\n",
    "- ```issubset()```\tReturns whether another set contains this set or not\n",
    "- ```issuperset()```\tReturns whether this set contains another set or not\n",
    "- ```pop()```\tRemoves an element from the set\n",
    "- ```remove()```\tRemoves the specified element\n",
    "- ```symmetric_difference()```\tReturns a set with the symmetric differences of two sets\n",
    "- ```symmetric_difference_update()```\tinserts the symmetric differences from this set and another\n",
    "- ```union()```\tReturn a set containing the union of sets\n",
    "- ```update()```\tUpdate the set with the union of this set and others"
   ]
  },
  {
   "cell_type": "markdown",
   "metadata": {},
   "source": [
    "# Dictionary\n",
    "- A dictionary is a collection which is unordered, changeable and indexed. \n",
    "- In Python dictionaries are written with curly brackets, and they have keys and values.\n",
    "\n",
    "**Create and print a dictionary**:\n",
    "```\n",
    "client = {\n",
    "    \"id\": 888,\n",
    "    \"company\": \"ABC Co.\",\n",
    "    \"email\": \"hello@abc.com\"\n",
    "}\n",
    "print(client)\n",
    "print(client[\"email\"])\n",
    "print(client.get(\"company\"))\n",
    "client[\"company\"] = \"XYZ Co.\"\n",
    "print(client)\n",
    "```"
   ]
  },
  {
   "cell_type": "code",
   "execution_count": 5,
   "metadata": {},
   "outputs": [
    {
     "name": "stdout",
     "output_type": "stream",
     "text": [
      "{'id': 888, 'company': 'ABC Co.', 'email': 'hello@abc.com'}\n",
      "hello@abc.com\n",
      "ABC Co.\n",
      "{'id': 888, 'company': 'XYZ Co.', 'email': 'hello@abc.com'}\n"
     ]
    }
   ],
   "source": []
  },
  {
   "cell_type": "markdown",
   "metadata": {},
   "source": [
    "# Loop Through a Dictionary\n",
    "Loop through a dictionary by using a ```for``` loop\n",
    "```\n",
    "client = {\n",
    "    \"id\": 888,\n",
    "    \"company\": \"ABC Co.\",\n",
    "    \"email\": \"hello@abc.com\"\n",
    "}\n",
    "```\n",
    "\n",
    "**Getting the key**:\n",
    "```\n",
    "for x in client:\n",
    "    print(x)\n",
    "```\n",
    "\n",
    "**Getting the values**:\n",
    "```\n",
    "for x in client.values():\n",
    "    print(x)\n",
    "```\n",
    "\n",
    "**Getting the keys and values**:\n",
    "```\n",
    "for key, value in client.items():\n",
    "    print(key, value)\n",
    "```"
   ]
  },
  {
   "cell_type": "code",
   "execution_count": 6,
   "metadata": {},
   "outputs": [
    {
     "name": "stdout",
     "output_type": "stream",
     "text": [
      "id 888\n",
      "company XYZ Co.\n",
      "email hello@abc.com\n"
     ]
    }
   ],
   "source": []
  },
  {
   "cell_type": "markdown",
   "metadata": {},
   "source": [
    "# Check if Key Exists\n",
    "To determine if a specified key is present in a dictionary use the in keyword:\n",
    "```\n",
    "client = {\n",
    "    \"id\": 888,\n",
    "    \"company\": \"ABC Co.\",\n",
    "    \"email\": \"hello@abc.com\"\n",
    "}\n",
    "if \"email\" in client:\n",
    "    print(\"email is in the Dictionaries\")\n",
    "```"
   ]
  },
  {
   "cell_type": "code",
   "execution_count": 7,
   "metadata": {},
   "outputs": [
    {
     "name": "stdout",
     "output_type": "stream",
     "text": [
      "email is in the Dictionaries\n"
     ]
    }
   ],
   "source": []
  },
  {
   "cell_type": "markdown",
   "metadata": {},
   "source": [
    "# Adding Items\n",
    "Adding an item to the dictionary is done by using a new index key and assigning a value to it\n",
    "```\n",
    "client = {\n",
    "    \"id\": 888,\n",
    "    \"company\": \"ABC Co.\",\n",
    "    \"email\": \"hello@abc.com\"\n",
    "}\n",
    "client[\"address\"] = \"Hong Kong\"\n",
    "print(client)\n",
    "```"
   ]
  },
  {
   "cell_type": "code",
   "execution_count": 8,
   "metadata": {},
   "outputs": [
    {
     "name": "stdout",
     "output_type": "stream",
     "text": [
      "{'id': 888, 'company': 'XYZ Co.', 'email': 'hello@abc.com', 'address': 'Hong Kong'}\n"
     ]
    }
   ],
   "source": []
  },
  {
   "cell_type": "markdown",
   "metadata": {},
   "source": [
    "# Reading JSON Data From the Web\n",
    "- You need to ues `urllib` and `json`\n",
    "- Let's try to read weather forecast from: https://data.weather.gov.hk/weatherAPI/opendata/weather.php?dataType=fnd&lang=tc\n",
    "- More information about weather data: https://www.hko.gov.hk/tc/abouthko/opendata_intro.htm\n",
    "\n",
    "**Example**:\n",
    "```\n",
    "import urllib.request, json \n",
    "with urllib.request.urlopen(\"https://data.weather.gov.hk/weatherAPI/opendata/weather.php?dataType=fnd&lang=tc\") as url:\n",
    "    data = json.loads(url.read().decode())\n",
    "    print(data)\n",
    "    print(data[\"generalSituation\"])\n",
    "    print(data[\"weatherForecast\"])\n",
    "    print(data[\"weatherForecast\"][0])\n",
    "```"
   ]
  },
  {
   "cell_type": "code",
   "execution_count": 9,
   "metadata": {},
   "outputs": [
    {
     "name": "stdout",
     "output_type": "stream",
     "text": [
      "{'generalSituation': '預料一股東北季候風會在今晚晚間抵達廣東沿岸，週末該區風勢較大，雲量較多。受乾燥的季候風補充持續影響，下週華南天氣普遍晴朗，早晚稍涼。', 'weatherForecast': [{'forecastDate': '20201121', 'week': '星期六', 'forecastWind': '東風4至5級，初時離岸間中6級。', 'forecastWeather': '多雲。早上有一兩陣雨，能見度較低。', 'forecastMaxtemp': {'value': 26, 'unit': 'C'}, 'forecastMintemp': {'value': 23, 'unit': 'C'}, 'forecastMaxrh': {'value': 95, 'unit': 'percent'}, 'forecastMinrh': {'value': 75, 'unit': 'percent'}, 'ForecastIcon': 62}, {'forecastDate': '20201122', 'week': '星期日', 'forecastWind': '東風3至4級。', 'forecastWeather': '初時大致多雲，日間漸轉天晴。', 'forecastMaxtemp': {'value': 27, 'unit': 'C'}, 'forecastMintemp': {'value': 22, 'unit': 'C'}, 'forecastMaxrh': {'value': 85, 'unit': 'percent'}, 'forecastMinrh': {'value': 65, 'unit': 'percent'}, 'ForecastIcon': 51}, {'forecastDate': '20201123', 'week': '星期一', 'forecastWind': '東北風4至5級。', 'forecastWeather': '部分時間有陽光。', 'forecastMaxtemp': {'value': 26, 'unit': 'C'}, 'forecastMintemp': {'value': 21, 'unit': 'C'}, 'forecastMaxrh': {'value': 85, 'unit': 'percent'}, 'forecastMinrh': {'value': 60, 'unit': 'percent'}, 'ForecastIcon': 51}, {'forecastDate': '20201124', 'week': '星期二', 'forecastWind': '東北風4至5級。', 'forecastWeather': '大致天晴及乾燥。', 'forecastMaxtemp': {'value': 25, 'unit': 'C'}, 'forecastMintemp': {'value': 20, 'unit': 'C'}, 'forecastMaxrh': {'value': 75, 'unit': 'percent'}, 'forecastMinrh': {'value': 50, 'unit': 'percent'}, 'ForecastIcon': 51}, {'forecastDate': '20201125', 'week': '星期三', 'forecastWind': '東至東北風4至5級，離岸間中6級。', 'forecastWeather': '大致天晴，日間乾燥。', 'forecastMaxtemp': {'value': 26, 'unit': 'C'}, 'forecastMintemp': {'value': 21, 'unit': 'C'}, 'forecastMaxrh': {'value': 80, 'unit': 'percent'}, 'forecastMinrh': {'value': 55, 'unit': 'percent'}, 'ForecastIcon': 51}, {'forecastDate': '20201126', 'week': '星期四', 'forecastWind': '東至東北風4至5級。', 'forecastWeather': '大致天晴，日間乾燥。', 'forecastMaxtemp': {'value': 26, 'unit': 'C'}, 'forecastMintemp': {'value': 21, 'unit': 'C'}, 'forecastMaxrh': {'value': 80, 'unit': 'percent'}, 'forecastMinrh': {'value': 55, 'unit': 'percent'}, 'ForecastIcon': 51}, {'forecastDate': '20201127', 'week': '星期五', 'forecastWind': '北至東北風4至5級。', 'forecastWeather': '天晴乾燥。', 'forecastMaxtemp': {'value': 26, 'unit': 'C'}, 'forecastMintemp': {'value': 20, 'unit': 'C'}, 'forecastMaxrh': {'value': 80, 'unit': 'percent'}, 'forecastMinrh': {'value': 50, 'unit': 'percent'}, 'ForecastIcon': 50}, {'forecastDate': '20201128', 'week': '星期六', 'forecastWind': '北至東北風4至5級。', 'forecastWeather': '大致天晴及乾燥。', 'forecastMaxtemp': {'value': 25, 'unit': 'C'}, 'forecastMintemp': {'value': 20, 'unit': 'C'}, 'forecastMaxrh': {'value': 70, 'unit': 'percent'}, 'forecastMinrh': {'value': 45, 'unit': 'percent'}, 'ForecastIcon': 51}, {'forecastDate': '20201129', 'week': '星期日', 'forecastWind': '東北風4至5級。', 'forecastWeather': '部分時間有陽光。', 'forecastMaxtemp': {'value': 25, 'unit': 'C'}, 'forecastMintemp': {'value': 20, 'unit': 'C'}, 'forecastMaxrh': {'value': 80, 'unit': 'percent'}, 'forecastMinrh': {'value': 55, 'unit': 'percent'}, 'ForecastIcon': 51}], 'updateTime': '2020-11-20T16:30:00+08:00', 'seaTemp': {'place': '北角', 'value': 25, 'unit': 'C', 'recordTime': '2020-11-20T14:00:00+08:00'}, 'soilTemp': [{'place': '香港天文台', 'value': 26.8, 'unit': 'C', 'recordTime': '2020-11-20T07:00:00+08:00', 'depth': {'unit': 'metre', 'value': 0.5}}, {'place': '香港天文台', 'value': 27.3, 'unit': 'C', 'recordTime': '2020-11-20T07:00:00+08:00', 'depth': {'unit': 'metre', 'value': 1}}]}\n"
     ]
    }
   ],
   "source": []
  },
  {
   "cell_type": "markdown",
   "metadata": {},
   "source": [
    "---\n",
    "# numpy\n",
    "- NumPy is a python library used for working with arrays.\n",
    "- It also has functions for working in domain of linear algebra, fourier transform, and matrices.\n",
    "- NumPy stands for Numerical Python.\n",
    "___"
   ]
  },
  {
   "cell_type": "markdown",
   "metadata": {},
   "source": [
    "# Why `numpy`\n",
    "- In Python we have lists that serve the purpose of arrays, but they are slow to process.\n",
    "- NumPy aims to provide an array object that is up a lot faster.\n",
    "- The array object in NumPy is called ndarray, it provides a lot of supporting functions that make working with ndarray very easy.\n",
    "- Arrays are very frequently used in data science, where speed and resources are very important.\n",
    "\n"
   ]
  },
  {
   "cell_type": "markdown",
   "metadata": {},
   "source": [
    "# Installation of numpy\n",
    "numpy is already included in anaconda, so no need to install\n",
    "\n",
    "if you are not regular python, you can install with pip\n",
    "```\n",
    "pip install numpy\n",
    "```"
   ]
  },
  {
   "cell_type": "markdown",
   "metadata": {},
   "source": [
    "# import it before you use it\n",
    "- Once NumPy is installed, import it in your applications by adding the import keyword:\n",
    "- You will see an error message if didn't import it first\n",
    "\n",
    "```\n",
    "import numpy\n",
    "```"
   ]
  },
  {
   "cell_type": "markdown",
   "metadata": {},
   "source": [
    "# numpy as np\n",
    "NumPy is usually imported under the np alias.\n",
    "```\n",
    "import numpy as np\n",
    "print(np.__version__)\n",
    "\n",
    "```"
   ]
  },
  {
   "cell_type": "code",
   "execution_count": 10,
   "metadata": {},
   "outputs": [
    {
     "name": "stdout",
     "output_type": "stream",
     "text": [
      "1.19.2\n"
     ]
    }
   ],
   "source": []
  },
  {
   "cell_type": "markdown",
   "metadata": {},
   "source": [
    "# Create a numpy ```ndarray``` object\n",
    "- NumPy is used to work with arrays. The array object in NumPy is called ```ndarray```.\n",
    "- We can create a NumPy ```ndarray``` object by using the ```array()``` function.\n",
    "```\n",
    "import numpy as np\n",
    "arr = np.array([1, 2, 3, 4, 5])\n",
    "print(arr)\n",
    "print(type(arr))\n",
    "```\n"
   ]
  },
  {
   "cell_type": "code",
   "execution_count": 11,
   "metadata": {},
   "outputs": [
    {
     "name": "stdout",
     "output_type": "stream",
     "text": [
      "[1 2 3 4 5]\n",
      "<class 'numpy.ndarray'>\n"
     ]
    }
   ],
   "source": []
  },
  {
   "cell_type": "markdown",
   "metadata": {},
   "source": [
    "# Dimensions in Arrays\n",
    "- A dimension in arrays is one level of array depth (nested arrays).\n",
    "\n",
    "**0-D Arrays**:\n",
    "```\n",
    "import numpy as np\n",
    "arr = np.array(42)\n",
    "print(arr)\n",
    "```\n",
    "**1-D Arrays**:\n",
    "```\n",
    "import numpy as np\n",
    "arr = np.array([1, 2, 3, 4, 5])\n",
    "print(arr)\n",
    "\n",
    "```\n",
    "**2-D Arrays**:\n",
    "```\n",
    "import numpy as np\n",
    "arr = np.array([[1, 2, 3], [4, 5, 6]])\n",
    "print(arr)\n",
    "\n",
    "```\n",
    "**3-D Arrays**:\n",
    "```\n",
    "import numpy as np\n",
    "arr = np.array([[[1, 2, 3], [4, 5, 6]], [[1, 2, 3], [4, 5, 6]]])\n",
    "print(arr)\n",
    "\n",
    "```\n",
    "**Check number of dimensions**:\n",
    "```\n",
    "print(arr.ndim)\n",
    "```"
   ]
  },
  {
   "cell_type": "code",
   "execution_count": 12,
   "metadata": {},
   "outputs": [
    {
     "name": "stdout",
     "output_type": "stream",
     "text": [
      "1\n"
     ]
    }
   ],
   "source": []
  },
  {
   "cell_type": "markdown",
   "metadata": {},
   "source": [
    "# Array Indexing\n",
    "```\n",
    "import numpy as np\n",
    "arr = np.array([1, 2, 3, 4])\n",
    "print(arr[0])\n",
    "arr2 = np.array([[1,2,3,4,5], [6,7,8,9,10]])\n",
    "print('2nd element on 1st dim: ', arr2[0, 1])\n",
    "```"
   ]
  },
  {
   "cell_type": "code",
   "execution_count": 13,
   "metadata": {},
   "outputs": [
    {
     "name": "stdout",
     "output_type": "stream",
     "text": [
      "1\n",
      "2nd element on 1st dim:  2\n"
     ]
    }
   ],
   "source": []
  },
  {
   "cell_type": "markdown",
   "metadata": {},
   "source": [
    "# Slicing Arrays\n",
    "- Slicing in python means taking elements from one given index to another given index.\n",
    "- We pass slice instead of index like this: ```[start:end]```.\n",
    "- We can also define the step, like this: ```[start:end:step]```.\n",
    "- If we don't pass start its considered 0\n",
    "- If we don't pass end its considered length of array in that dimension\n",
    "- If we don't pass step its considered 1\n",
    "```\n",
    "import numpy as np\n",
    "arr = np.array([1, 2, 3, 4, 5, 6, 7])\n",
    "print(arr[1:5])\n",
    "print(arr[1:])\n",
    "print(arr[0:-3])\n",
    "print(arr[::2])\n",
    "```"
   ]
  },
  {
   "cell_type": "markdown",
   "metadata": {},
   "source": [
    "# Slicing 2-D Arrays\n",
    "```\n",
    "import numpy as np\n",
    "arr = np.array([[1, 2, 3, 4, 5], [6, 7, 8, 9, 10]])\n",
    "print(arr[1, 1:4])\n",
    "print(arr[0:2, 2])\n",
    "print(arr[0:2, 1:4])\n",
    "```"
   ]
  },
  {
   "cell_type": "code",
   "execution_count": 14,
   "metadata": {},
   "outputs": [
    {
     "name": "stdout",
     "output_type": "stream",
     "text": [
      "[7 8 9]\n",
      "[3 8]\n",
      "[[2 3 4]\n",
      " [7 8 9]]\n"
     ]
    }
   ],
   "source": []
  },
  {
   "cell_type": "markdown",
   "metadata": {},
   "source": [
    "# Data Type in numpy\n",
    "- ```i``` - integer\n",
    "- ```b``` - boolean\n",
    "- ```u``` - unsigned integer\n",
    "- ```f``` - float\n",
    "- ```c``` - complex float\n",
    "- ```m``` - timedelta\n",
    "- ```M``` - datetime\n",
    "- ```O``` - object\n",
    "- ```S``` - string\n",
    "- ```U``` - unicode string\n",
    "- ```V``` - fixed chunk of memory for other type ( void )"
   ]
  },
  {
   "cell_type": "code",
   "execution_count": null,
   "metadata": {},
   "outputs": [],
   "source": []
  },
  {
   "cell_type": "markdown",
   "metadata": {},
   "source": [
    "# Checking the Data Type of an Array\n",
    "- The NumPy array object has a property called dtype that returns the data type of the array\n",
    "```\n",
    "import numpy as np\n",
    "arr = np.array([1, 2, 3, 4])\n",
    "print(arr.dtype)\n",
    "arr2 = np.array(['apple', 'banana', 'cherry'])\n",
    "print(arr2.dtype)\n",
    "```"
   ]
  },
  {
   "cell_type": "code",
   "execution_count": 15,
   "metadata": {},
   "outputs": [
    {
     "name": "stdout",
     "output_type": "stream",
     "text": [
      "<U6\n"
     ]
    }
   ],
   "source": []
  },
  {
   "cell_type": "markdown",
   "metadata": {},
   "source": [
    "# Shape of an Array\n",
    "- The shape of an array is the number of elements in each dimension.\n",
    "- NumPy arrays have an attribute called shape that returns a tuple with each index having the number of corresponding elements.\n",
    "```\n",
    "import numpy as np\n",
    "arr = np.array([[1, 2, 3, 4], [5, 6, 7, 8]])\n",
    "print(arr.shape)\n",
    "```\n"
   ]
  },
  {
   "cell_type": "code",
   "execution_count": 16,
   "metadata": {},
   "outputs": [
    {
     "name": "stdout",
     "output_type": "stream",
     "text": [
      "(2, 4)\n"
     ]
    }
   ],
   "source": []
  },
  {
   "cell_type": "markdown",
   "metadata": {},
   "source": [
    "# Reshapeing Arrays\n",
    "- Reshaping means changing the shape of an array.\n",
    "- The shape of an array is the number of elements in each dimension.\n",
    "- By reshaping we can add or remove dimensions or change number of elements in each dimension.\n",
    "```\n",
    "import numpy as np\n",
    "arr = np.array([1, 2, 3, 4, 5, 6, 7, 8, 9, 10, 11, 12])\n",
    "arr2d = arr.reshape(4, 3)\n",
    "arr3d = arr.reshape(2, 3, 2)\n",
    "print(arr2d)\n",
    "print(arr2d.shape)\n",
    "print(arr3d)\n",
    "print(arr3d.shape)\n",
    "print(type(arr3d.shape))\n",
    "```"
   ]
  },
  {
   "cell_type": "code",
   "execution_count": 17,
   "metadata": {},
   "outputs": [
    {
     "name": "stdout",
     "output_type": "stream",
     "text": [
      "[[ 1  2  3]\n",
      " [ 4  5  6]\n",
      " [ 7  8  9]\n",
      " [10 11 12]]\n",
      "(4, 3)\n",
      "[[[ 1  2]\n",
      "  [ 3  4]\n",
      "  [ 5  6]]\n",
      "\n",
      " [[ 7  8]\n",
      "  [ 9 10]\n",
      "  [11 12]]]\n",
      "(2, 3, 2)\n",
      "<class 'tuple'>\n"
     ]
    }
   ],
   "source": []
  },
  {
   "cell_type": "markdown",
   "metadata": {},
   "source": [
    "# `arange()` method\n",
    "- `arange()` is one of the array creation routines based on numerical ranges. \n",
    "- It creates an instance of ndarray with evenly spaced values and returns the reference to it.\n",
    "\n",
    "**Syntax**:\n",
    "```\n",
    "numpy.arange([start, ]stop, [step, ], dtype=None) -> numpy.ndarray\n",
    "```\n",
    "\n",
    "**Example**:\n",
    "```\n",
    "np.arange(0, 20, 2)\n",
    "```\n"
   ]
  },
  {
   "cell_type": "code",
   "execution_count": 18,
   "metadata": {},
   "outputs": [
    {
     "data": {
      "text/plain": [
       "array([ 1,  6, 11, 16, 21, 26, 31, 36, 41, 46, 51, 56, 61, 66, 71, 76, 81,\n",
       "       86, 91, 96])"
      ]
     },
     "execution_count": 18,
     "metadata": {},
     "output_type": "execute_result"
    }
   ],
   "source": []
  },
  {
   "cell_type": "markdown",
   "metadata": {},
   "source": [
    "# `linspace()` method\n",
    "create a range of evenly spaced numbers in Python\n",
    "\n",
    "**Syntax**:\n",
    "```\n",
    "numpy.linspace([start, ]stop, [count, ]) -> numpy.ndarray\n",
    "```\n",
    "\n",
    "**Example**:\n",
    "```\n",
    "np.linspace(0, 100, 10)\n",
    "```"
   ]
  },
  {
   "cell_type": "code",
   "execution_count": 19,
   "metadata": {},
   "outputs": [
    {
     "data": {
      "text/plain": [
       "array([ 0.        ,  1.11111111,  2.22222222,  3.33333333,  4.44444444,\n",
       "        5.55555556,  6.66666667,  7.77777778,  8.88888889, 10.        ])"
      ]
     },
     "execution_count": 19,
     "metadata": {},
     "output_type": "execute_result"
    }
   ],
   "source": []
  },
  {
   "cell_type": "markdown",
   "metadata": {},
   "source": [
    "# Flattening the arrays\n",
    "- Flattening array means converting a multidimensional array into a 1D array.\n",
    "- We can use ```reshape(-1)``` to do this.\n",
    "**Example**:\n",
    "```\n",
    "flattened = arr3d.reshape(-1)\n",
    "print(flattened)\n",
    "```"
   ]
  },
  {
   "cell_type": "code",
   "execution_count": 20,
   "metadata": {},
   "outputs": [
    {
     "name": "stdout",
     "output_type": "stream",
     "text": [
      "[ 1  2  3  4  5  6  7  8  9 10 11 12]\n",
      "[[ 1  2  3]\n",
      " [ 4  5  6]\n",
      " [ 7  8  9]\n",
      " [10 11 12]]\n",
      "[[12 11 10]\n",
      " [ 9  8  7]\n",
      " [ 6  5  4]\n",
      " [ 3  2  1]]\n"
     ]
    }
   ],
   "source": []
  },
  {
   "cell_type": "markdown",
   "metadata": {},
   "source": [
    "# Re-arranging the elements of array\n",
    "- There are a lot of functions for changing the shapes of arrays in numpy `flatten`, `ravel` and also for rearranging the elements `rot90`, `flip`, `fliplr`, `flipud` etc. \n",
    "- These fall under Intermediate to Advanced section of numpy."
   ]
  },
  {
   "cell_type": "markdown",
   "metadata": {},
   "source": [
    "# Iterating Arrays\n",
    "- Iterating means going through elements one by one.\n",
    "- As we deal with multi-dimensional arrays in numpy, we can do this using basic for loop of python.\n",
    "- If we iterate on a 1-D array it will go through each element one by one.\n",
    "```\n",
    "import numpy as np\n",
    "arr = np.array([1, 2, 3])\n",
    "for x in arr:\n",
    "  print(x)\n",
    "```\n",
    "\n",
    "**Note**: In a 2-D array it will go through all the rows for each loop"
   ]
  },
  {
   "cell_type": "code",
   "execution_count": 21,
   "metadata": {},
   "outputs": [
    {
     "name": "stdout",
     "output_type": "stream",
     "text": [
      "[1 2 3]\n",
      "[4 5 6]\n"
     ]
    }
   ],
   "source": []
  },
  {
   "cell_type": "markdown",
   "metadata": {},
   "source": [
    "# Iterating 2D and 3D Array\n",
    "- Iterate on each scalar element of a multi dimension array:\n",
    "\n",
    "**Iterating 2D Array**:\n",
    "```\n",
    "import numpy as np\n",
    "arr = np.array([[1, 2, 3], [4, 5, 6]])\n",
    "for x in arr:\n",
    "  for y in x:\n",
    "    print(y)\n",
    "```\n",
    "\n",
    "**Iterating 3D Array**:\n",
    "```\n",
    "import numpy as np\n",
    "arr = np.array([[[1, 2, 3], [4, 5, 6]], [[7, 8, 9], [10, 11, 12]]])\n",
    "for x in arr:\n",
    "  for y in x:\n",
    "    for z in y:\n",
    "      print(z)\n",
    "```"
   ]
  },
  {
   "cell_type": "code",
   "execution_count": 22,
   "metadata": {},
   "outputs": [
    {
     "name": "stdout",
     "output_type": "stream",
     "text": [
      "1\n",
      "2\n",
      "3\n",
      "4\n",
      "5\n",
      "6\n",
      "7\n",
      "8\n"
     ]
    }
   ],
   "source": []
  },
  {
   "cell_type": "markdown",
   "metadata": {},
   "source": [
    "# Using `nditer()`\n",
    "- The function nditer() is a helping function that can be used from very basic to very advanced iterations. \n",
    "- It solves some basic issues which we face in iteration, lets go through it with examples.\n",
    "\n",
    "```\n",
    "import numpy as np\n",
    "arr = np.array([[[1, 2], [3, 4]], [[5, 6], [7, 8]]])\n",
    "for x in np.nditer(arr):\n",
    "  print(x)\n",
    "```"
   ]
  },
  {
   "cell_type": "code",
   "execution_count": 23,
   "metadata": {},
   "outputs": [
    {
     "name": "stdout",
     "output_type": "stream",
     "text": [
      "1\n",
      "2\n",
      "3\n",
      "4\n",
      "5\n",
      "6\n",
      "7\n",
      "8\n"
     ]
    }
   ],
   "source": []
  },
  {
   "cell_type": "markdown",
   "metadata": {},
   "source": [
    "# Joining numpy array\n",
    "- Joining means putting contents of two or more arrays in a single array.\n",
    "- In SQL we join tables based on a key, whereas in NumPy we join arrays by axes.\n",
    "- We pass a sequence of arrays that we want to join to the concatenate() function, along with the axis. If axis is not explicitly passed, it is taken as `0`.\n",
    "\n",
    "```\n",
    "import numpy as np\n",
    "arr1 = np.array([1, 2, 3])\n",
    "arr2 = np.array([4, 5, 6])\n",
    "arr = np.concatenate((arr1, arr2))\n",
    "print(arr)\n",
    "```\n"
   ]
  },
  {
   "cell_type": "code",
   "execution_count": 24,
   "metadata": {},
   "outputs": [
    {
     "name": "stdout",
     "output_type": "stream",
     "text": [
      "[1 2 3 4 5 6]\n"
     ]
    }
   ],
   "source": []
  },
  {
   "cell_type": "markdown",
   "metadata": {},
   "source": [
    "# Joining 2D array\n",
    "```\n",
    "import numpy as np\n",
    "arr1 = np.array([[1, 2], [3, 4]])\n",
    "arr2 = np.array([[10, 20], [30, 40]])\n",
    "arr = np.concatenate((arr1, arr2), axis=0)\n",
    "print(arr)\n",
    "```"
   ]
  },
  {
   "cell_type": "code",
   "execution_count": 25,
   "metadata": {},
   "outputs": [
    {
     "name": "stdout",
     "output_type": "stream",
     "text": [
      "<class 'list'>\n",
      "[array([1, 2]), array([3, 4]), array([5, 6])]\n",
      "[1 2]\n",
      "[3 4]\n",
      "[5 6]\n"
     ]
    }
   ],
   "source": []
  },
  {
   "cell_type": "markdown",
   "metadata": {},
   "source": [
    "# Splitting Array\n",
    "- Use `array_split()` for splitting arrays\n",
    "- Pass it the array we want to split and the number of splits\n",
    "\n",
    "```\n",
    "import numpy as np\n",
    "arr = np.array([1, 2, 3, 4, 5, 6])\n",
    "newarr = np.array_split(arr, 3)\n",
    "print(newarr)\n",
    "print(newarr[0])\n",
    "```\n",
    "*The return value is an array containing three arrays*"
   ]
  },
  {
   "cell_type": "code",
   "execution_count": 26,
   "metadata": {},
   "outputs": [
    {
     "name": "stdout",
     "output_type": "stream",
     "text": [
      "[array([1, 2]), array([3, 4]), array([5, 6])]\n",
      "[3 4]\n",
      "[5 6]\n"
     ]
    }
   ],
   "source": []
  },
  {
   "cell_type": "markdown",
   "metadata": {},
   "source": [
    "# Splitting 2D Array\n",
    "Use the same syntax when splitting 2-D arrays.\n",
    "```\n",
    "import numpy as np\n",
    "arr = np.array([[1, 2, 3], [4, 5, 6], [7, 8, 9], [10, 11, 12], [13, 14, 15], [16, 17, 18]])\n",
    "newarr = np.array_split(arr, 3)\n",
    "print(newarr)\n",
    "```"
   ]
  },
  {
   "cell_type": "code",
   "execution_count": 27,
   "metadata": {},
   "outputs": [
    {
     "name": "stdout",
     "output_type": "stream",
     "text": [
      "[array([[ 1],\n",
      "       [ 4],\n",
      "       [ 7],\n",
      "       [10],\n",
      "       [13],\n",
      "       [16]]), array([[ 2],\n",
      "       [ 5],\n",
      "       [ 8],\n",
      "       [11],\n",
      "       [14],\n",
      "       [17]]), array([[ 3],\n",
      "       [ 6],\n",
      "       [ 9],\n",
      "       [12],\n",
      "       [15],\n",
      "       [18]])]\n"
     ]
    }
   ],
   "source": []
  },
  {
   "cell_type": "markdown",
   "metadata": {},
   "source": [
    "# Splitting Axis - row\n",
    "- you can specify which axis you want to do the split around.\n",
    "- default splitting axis is by col (axis=0), you can split along row (axis=1)\n",
    "```\n",
    "import numpy as np\n",
    "arr = np.array([[1, 2, 3], [4, 5, 6], [7, 8, 9], [10, 11, 12], [13, 14, 15], [16, 17, 18]])\n",
    "newarr = np.array_split(arr, 3, axis=0)\n",
    "newarr2 = np.array_split(arr, 3, axis=1)\n",
    "print(newarr)\n",
    "print(newarr[0])\n",
    "print(newarr2)\n",
    "print(newarr2[0])\n",
    "```"
   ]
  },
  {
   "cell_type": "code",
   "execution_count": 28,
   "metadata": {},
   "outputs": [
    {
     "name": "stdout",
     "output_type": "stream",
     "text": [
      "[array([[1, 2, 3],\n",
      "       [4, 5, 6]]), array([[ 7,  8,  9],\n",
      "       [10, 11, 12]]), array([[13, 14, 15],\n",
      "       [16, 17, 18]])]\n",
      "[[1 2 3]\n",
      " [4 5 6]]\n",
      "[array([[ 1],\n",
      "       [ 4],\n",
      "       [ 7],\n",
      "       [10],\n",
      "       [13],\n",
      "       [16]]), array([[ 2],\n",
      "       [ 5],\n",
      "       [ 8],\n",
      "       [11],\n",
      "       [14],\n",
      "       [17]]), array([[ 3],\n",
      "       [ 6],\n",
      "       [ 9],\n",
      "       [12],\n",
      "       [15],\n",
      "       [18]])]\n",
      "[[ 1]\n",
      " [ 4]\n",
      " [ 7]\n",
      " [10]\n",
      " [13]\n",
      " [16]]\n"
     ]
    }
   ],
   "source": []
  },
  {
   "cell_type": "markdown",
   "metadata": {},
   "source": [
    "# Search\n",
    "- You can search an array for a certain value, and return the indexes that get a match.\n",
    "- To search an array, use the `where()` method.\n",
    "\n",
    "**Example**: Find the indexes(position) where the value is 4\n",
    "```\n",
    "import numpy as np\n",
    "arr = np.array([1, 2, 3, 4, 5, 4, 4])\n",
    "x = np.where(arr == 4)\n",
    "print(x)\n",
    "```\n",
    "**Returned value**:\n",
    "- The example above will return a tuple: (array([3, 5, 6],)\n",
    "- Which means that the value 4 is present at index 3, 5, and 6.\n"
   ]
  },
  {
   "cell_type": "code",
   "execution_count": 29,
   "metadata": {},
   "outputs": [
    {
     "name": "stdout",
     "output_type": "stream",
     "text": [
      "(array([3, 5, 6]),)\n"
     ]
    }
   ],
   "source": []
  },
  {
   "cell_type": "markdown",
   "metadata": {},
   "source": [
    "# More Search\n",
    "\n",
    "**Find the indexes where the values are even**:\n",
    "```\n",
    "import numpy as np\n",
    "arr = np.array([1, 2, 3, 4, 5, 6, 7, 8])\n",
    "x = np.where(arr%2 == 0)\n",
    "print(x)\n",
    "```\n",
    "\n",
    "**Find the indexes where the values are odd**:\n",
    "```\n",
    "import numpy as np\n",
    "arr = np.array([1, 2, 3, 4, 5, 6, 7, 8])\n",
    "x = np.where(arr%2 == 1)\n",
    "print(x)\n",
    "```"
   ]
  },
  {
   "cell_type": "code",
   "execution_count": 30,
   "metadata": {},
   "outputs": [
    {
     "name": "stdout",
     "output_type": "stream",
     "text": [
      "(array([0, 2, 4, 6]),)\n"
     ]
    }
   ],
   "source": []
  },
  {
   "cell_type": "markdown",
   "metadata": {},
   "source": [
    "# Sorting Array: `sort()`\n",
    "- Sorting means putting elements in an ordered sequence.\n",
    "- Ordered sequence is any sequence that has an order corresponding to elements, like numeric or alphabetical, ascending or descending.\n",
    "\n",
    "```\n",
    "import numpy as np\n",
    "arr = np.array([3, 2, 0, 1])\n",
    "print(np.sort(arr))\n",
    "```\n",
    "*This method returns a copy of the array, leaving the original array unchanged. Meaning not sorting in place*"
   ]
  },
  {
   "cell_type": "code",
   "execution_count": 31,
   "metadata": {},
   "outputs": [
    {
     "name": "stdout",
     "output_type": "stream",
     "text": [
      "[[2 3 4]\n",
      " [0 1 5]]\n"
     ]
    }
   ],
   "source": []
  },
  {
   "cell_type": "markdown",
   "metadata": {},
   "source": [
    "# Sorting 2D Array\n",
    "If you use the sort() method on a 2-D array, both arrays will be sorted:\n",
    "```\n",
    "import numpy as np\n",
    "arr = np.array([[3, 2, 4], [5, 0, 1]])\n",
    "print(np.sort(arr))\n",
    "```"
   ]
  },
  {
   "cell_type": "code",
   "execution_count": 32,
   "metadata": {},
   "outputs": [
    {
     "name": "stdout",
     "output_type": "stream",
     "text": [
      "[[2 3 4]\n",
      " [0 1 5]]\n"
     ]
    }
   ],
   "source": []
  },
  {
   "cell_type": "markdown",
   "metadata": {},
   "source": [
    "# Filter\n",
    "- Getting some elements out of an existing array and creating a new array out of them is called filtering.\n",
    "- You filter an array using a boolean index list.\n",
    "- A boolean index list is a list of booleans corresponding to indexes in the array.\n",
    "- If the value at an index is True that element is contained in the filtered array, if the value at that index is False that element is excluded from the filtered array.\n",
    "\n",
    "**Example**:\n",
    "```\n",
    "import numpy as np\n",
    "arr = np.array([41, 42, 43, 44])\n",
    "x = [True, False, True, False]\n",
    "newarr = arr[x]\n",
    "print(newarr)\n",
    "```"
   ]
  },
  {
   "cell_type": "code",
   "execution_count": 33,
   "metadata": {},
   "outputs": [
    {
     "name": "stdout",
     "output_type": "stream",
     "text": [
      "[41 43]\n"
     ]
    }
   ],
   "source": []
  },
  {
   "cell_type": "markdown",
   "metadata": {},
   "source": [
    "# Create the Filter Array\n",
    "- In the example above we hard-coded the True and False values, but the common use is to create a filter array based on conditions.\n",
    "\n",
    "**Example**:\n",
    "```\n",
    "import numpy as np\n",
    "arr = np.array([41, 42, 43, 44])\n",
    "filter_arr = []\n",
    "for element in arr:\n",
    "  if element > 42:\n",
    "    filter_arr.append(True)\n",
    "  else:\n",
    "    filter_arr.append(False)\n",
    "newarr = arr[filter_arr]\n",
    "print(filter_arr)\n",
    "print(newarr)\n",
    "```"
   ]
  },
  {
   "cell_type": "code",
   "execution_count": 34,
   "metadata": {},
   "outputs": [
    {
     "name": "stdout",
     "output_type": "stream",
     "text": [
      "[False, False, True, True]\n",
      "[43 44]\n"
     ]
    }
   ],
   "source": []
  },
  {
   "cell_type": "markdown",
   "metadata": {},
   "source": [
    "# A neat approach to create filter array\n",
    "A short hand to create filter array: `filter_arr = arr > 42`\n",
    "\n",
    "```\n",
    "import numpy as np\n",
    "arr = np.array([41, 42, 43, 44])\n",
    "filter_arr = arr > 42\n",
    "newarr = arr[filter_arr]\n",
    "print(filter_arr)\n",
    "print(newarr)\n",
    "```"
   ]
  },
  {
   "cell_type": "code",
   "execution_count": 35,
   "metadata": {},
   "outputs": [
    {
     "name": "stdout",
     "output_type": "stream",
     "text": [
      "[False False  True  True]\n",
      "[43 44]\n"
     ]
    }
   ],
   "source": []
  },
  {
   "cell_type": "markdown",
   "metadata": {},
   "source": [
    "# Exercise: \n",
    "Create a filter array that store the position of **even** number\n",
    "```\n",
    "import numpy as np\n",
    "numbers = np.arange(0,21)\n",
    "filter = numbers%2==0\n",
    "filtered_number = numbers[filter]\n",
    "print(filtered_number)\n",
    "```"
   ]
  },
  {
   "cell_type": "code",
   "execution_count": null,
   "metadata": {},
   "outputs": [],
   "source": []
  },
  {
   "cell_type": "markdown",
   "metadata": {},
   "source": [
    "# Exercise: \n",
    "Create a filter array that store the position of **odd** number\n",
    "```\n",
    "import numpy as np\n",
    "numbers = np.arange(0,21)\n",
    "filter = ??????\n",
    "filtered_number = numbers[filter]\n",
    "print(filtered_number)\n",
    "```"
   ]
  },
  {
   "cell_type": "code",
   "execution_count": 36,
   "metadata": {},
   "outputs": [
    {
     "name": "stdout",
     "output_type": "stream",
     "text": [
      "[ 0  2  4  6  8 10 12 14 16 18 20]\n"
     ]
    }
   ],
   "source": []
  },
  {
   "cell_type": "markdown",
   "metadata": {},
   "source": [
    "# Exercise: \n",
    "Create a filter array that store the position of **positive** number\n",
    "```\n",
    "import numpy as np\n",
    "profits = np.array([100, -100, 200, -200, 300, -300])\n",
    "filter = ?????\n",
    "earning = profits[filter]\n",
    "print(earning)\n",
    "```"
   ]
  },
  {
   "cell_type": "code",
   "execution_count": null,
   "metadata": {},
   "outputs": [],
   "source": []
  },
  {
   "cell_type": "markdown",
   "metadata": {},
   "source": [
    "# Random\n",
    "NumPy offers the `random` module to work with random numbers.\n",
    "\n",
    "**Example - Generating a random int**:\n",
    "```\n",
    "from numpy import random\n",
    "x = random.randint(100)\n",
    "print(x)\n",
    "```\n",
    "\n",
    "**Example - Generating a random float**:\n",
    "```\n",
    "from numpy import random\n",
    "x = random.rand()\n",
    "print(x)\n",
    "```\n",
    "\n",
    "**To keep running a same cell**:\n",
    "Hold `COMMAND` (Mac) / `CTRL` (Windows) + `ENTER`"
   ]
  },
  {
   "cell_type": "code",
   "execution_count": 40,
   "metadata": {},
   "outputs": [
    {
     "name": "stdout",
     "output_type": "stream",
     "text": [
      "0.504325176374349\n"
     ]
    }
   ],
   "source": []
  },
  {
   "cell_type": "markdown",
   "metadata": {},
   "source": [
    "# Generating Random Array\n",
    "The `randint()` method takes a size parameter where you can specify the shape of an array.\n",
    "\n",
    "**Example**:\n",
    "```\n",
    "from numpy import random\n",
    "x=random.randint(100, size=(3))\n",
    "y=random.randint(100, size=(3,4))\n",
    "z=random.rand(4,5)\n",
    "print(x)\n",
    "print(y)\n",
    "print(z)\n",
    "```"
   ]
  },
  {
   "cell_type": "code",
   "execution_count": 41,
   "metadata": {},
   "outputs": [
    {
     "name": "stdout",
     "output_type": "stream",
     "text": [
      "[29 81 98]\n",
      "[[93 31 82 97]\n",
      " [18 39 48 53]\n",
      " [75 79 67 16]]\n",
      "[[0.96900326 0.66797648 0.0691872  0.16449878 0.41406932]\n",
      " [0.89072425 0.29259306 0.58186195 0.80266703 0.07648344]\n",
      " [0.77056154 0.52973821 0.16067251 0.42529389 0.93244658]\n",
      " [0.01695955 0.64404631 0.6157122  0.26879115 0.23584363]]\n"
     ]
    }
   ],
   "source": []
  },
  {
   "cell_type": "markdown",
   "metadata": {},
   "source": [
    "# Generating random number from array\n",
    "- The choice() method allows you to generate a random value based on an array of values.\n",
    "- The choice() method takes an array as a parameter and randomly returns one of the values.\n",
    "\n",
    "```\n",
    "from numpy import random\n",
    "x = random.choice([\"A\", \"2\", \"3\", \"4\", \"5\", \"6\", \"7\", \"8\", \"9\", \"10\", \"J\", \"Q\", \"K\"])\n",
    "y = random.choice([\"A\", \"2\", \"3\", \"4\", \"5\", \"6\", \"7\", \"8\", \"9\", \"10\", \"J\", \"Q\", \"K\"], size=(3,2))\n",
    "z = random.choice([\"A\", \"2\", \"3\", \"4\", \"5\", \"6\", \"7\", \"8\", \"9\", \"10\", \"J\", \"Q\", \"K\"], size=(3,2))\n",
    "\n",
    "print(x)\n",
    "print(y)\n",
    "print(z)\n",
    "```"
   ]
  },
  {
   "cell_type": "code",
   "execution_count": 69,
   "metadata": {},
   "outputs": [
    {
     "name": "stdout",
     "output_type": "stream",
     "text": [
      "3\n",
      "['8' '3' 'K' '8' '8']\n",
      "[['Q' '5']\n",
      " ['2' 'K']\n",
      " ['Q' '3']]\n"
     ]
    }
   ],
   "source": []
  },
  {
   "cell_type": "code",
   "execution_count": 70,
   "metadata": {},
   "outputs": [
    {
     "data": {
      "text/plain": [
       "'3'"
      ]
     },
     "execution_count": 70,
     "metadata": {},
     "output_type": "execute_result"
    }
   ],
   "source": []
  },
  {
   "cell_type": "markdown",
   "metadata": {},
   "source": [
    "# NumPy ufuncs\n",
    "- ufuncs stands for \"Universal Functions\"\n",
    "- They are NumPy functions that operates on the `ndarray` object.\n",
    "- ufuncs are used to implement vectorization in NumPy which is way faster than iterating over elements.\n",
    "\n",
    "**Add the elements of tow lists**:\n",
    "\n",
    "```\n",
    "x = [1, 2, 3, 4]\n",
    "y = [100, 200, 300, 400]\n",
    "z = []\n",
    "for i, j in zip(x, y):\n",
    "  z.append(i + j)\n",
    "print(z)\n",
    "```"
   ]
  },
  {
   "cell_type": "code",
   "execution_count": 71,
   "metadata": {},
   "outputs": [
    {
     "name": "stdout",
     "output_type": "stream",
     "text": [
      "[101, 202, 303, 404]\n"
     ]
    }
   ],
   "source": []
  },
  {
   "cell_type": "markdown",
   "metadata": {},
   "source": [
    "# `add()` function\n",
    "You can use `add()` function to achieve the same effect as above\n",
    "```\n",
    "x = [1, 2, 3, 4]\n",
    "y = [100, 200, 300, 400]\n",
    "z = np.add(x,y)\n",
    "print(z)\n",
    "```"
   ]
  },
  {
   "cell_type": "code",
   "execution_count": 72,
   "metadata": {},
   "outputs": [
    {
     "name": "stdout",
     "output_type": "stream",
     "text": [
      "[101 202 303 404]\n"
     ]
    }
   ],
   "source": []
  },
  {
   "cell_type": "markdown",
   "metadata": {},
   "source": [
    "# Ufunc Simple Arithmetic\n",
    "You could use arithmetic operators `+` `-` `*` `/` directly between NumPy arrays\n",
    "\n",
    "but this section discusses an extension of the same where we have functions that can take any array-like objects e.g. lists, tuples etc. and perform arithmetic conditionally.\n",
    "\n",
    "```\n",
    "a = [1, 2, 3, 4]\n",
    "b = [100, 200, 300, 400]\n",
    "x = np.array([1, 2, 3, 4])\n",
    "y = np.array([100, 200, 300, 400])\n",
    "print(a)\n",
    "print(x)\n",
    "print(type(a))\n",
    "print(type(x))\n",
    "print(a*2)\n",
    "print(x*2)\n",
    "print(a+b)\n",
    "print(x+y)\n",
    "print(x+10)\n",
    "print(x*10)\n",
    "print(x/10)\n",
    "print(x%y)\n",
    "```"
   ]
  },
  {
   "cell_type": "code",
   "execution_count": 73,
   "metadata": {},
   "outputs": [
    {
     "name": "stdout",
     "output_type": "stream",
     "text": [
      "[1, 2, 3, 4]\n",
      "[1 2 3 4]\n",
      "<class 'list'>\n",
      "<class 'numpy.ndarray'>\n",
      "[1, 2, 3, 4, 1, 2, 3, 4]\n",
      "[2 4 6 8]\n",
      "[1, 2, 3, 4, 100, 200, 300, 400]\n",
      "[101 202 303 404]\n",
      "[11 12 13 14]\n",
      "[10 20 30 40]\n",
      "[0.1 0.2 0.3 0.4]\n",
      "[1 2 3 4]\n"
     ]
    }
   ],
   "source": []
  },
  {
   "cell_type": "markdown",
   "metadata": {},
   "source": [
    "# More on NumPy\n",
    "https://numpy.org/doc/stable/user/quickstart.html#"
   ]
  },
  {
   "cell_type": "markdown",
   "metadata": {},
   "source": [
    "# Exercise\n",
    "- Currency Exchange\n",
    "- Currency Rate API: https://fixer.io/\n",
    "\n",
    "### Your Task:\n",
    "Modify the previous weather data fetching script to build a live currency exchange mini app\n",
    "\n",
    "**Example Codes From Previous Weather Data Fetching**:\n",
    "```\n",
    "import urllib.request, json \n",
    "with urllib.request.urlopen(\"https://data.weather.gov.hk/weatherAPI/opendata/weather.php?dataType=fnd&lang=tc\") as url:\n",
    "    data = json.loads(url.read().decode())\n",
    "    print(data)\n",
    "    print(data[\"generalSituation\"])\n",
    "    print(data[\"weatherForecast\"])\n",
    "    print(data[\"weatherForecast\"][0])\n",
    "```"
   ]
  },
  {
   "cell_type": "code",
   "execution_count": null,
   "metadata": {},
   "outputs": [],
   "source": []
  }
 ],
 "metadata": {
  "kernelspec": {
   "display_name": "Python 3",
   "language": "python",
   "name": "python3"
  },
  "language_info": {
   "codemirror_mode": {
    "name": "ipython",
    "version": 3
   },
   "file_extension": ".py",
   "mimetype": "text/x-python",
   "name": "python",
   "nbconvert_exporter": "python",
   "pygments_lexer": "ipython3",
   "version": "3.8.5"
  }
 },
 "nbformat": 4,
 "nbformat_minor": 4
}
